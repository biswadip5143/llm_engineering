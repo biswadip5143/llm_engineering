{
  "cells": [
    {
      "cell_type": "markdown",
      "metadata": {
        "id": "view-in-github",
        "colab_type": "text"
      },
      "source": [
        "<a href=\"https://colab.research.google.com/github/biswadip5143/llm_engineering/blob/main/week1%20EXERCISE.ipynb\" target=\"_parent\"><img src=\"https://colab.research.google.com/assets/colab-badge.svg\" alt=\"Open In Colab\"/></a>"
      ]
    },
    {
      "cell_type": "markdown",
      "id": "fe12c203-e6a6-452c-a655-afb8a03a4ff5",
      "metadata": {
        "id": "fe12c203-e6a6-452c-a655-afb8a03a4ff5"
      },
      "source": [
        "# End of week 1 exercise\n",
        "\n",
        "To demonstrate your familiarity with OpenAI API, and also Ollama, build a tool that takes a technical question,  \n",
        "and responds with an explanation. This is a tool that you will be able to use yourself during the course!"
      ]
    },
    {
      "cell_type": "code",
      "source": [
        "!pip install ollama\n",
        "!pip install dotenv"
      ],
      "metadata": {
        "id": "UtGItRR00CTz",
        "outputId": "2c14a5cd-067b-4cba-806f-34717af8e80f",
        "colab": {
          "base_uri": "https://localhost:8080/"
        }
      },
      "id": "UtGItRR00CTz",
      "execution_count": 3,
      "outputs": [
        {
          "output_type": "stream",
          "name": "stdout",
          "text": [
            "Collecting ollama\n",
            "  Downloading ollama-0.4.7-py3-none-any.whl.metadata (4.7 kB)\n",
            "Requirement already satisfied: httpx<0.29,>=0.27 in /usr/local/lib/python3.11/dist-packages (from ollama) (0.28.1)\n",
            "Requirement already satisfied: pydantic<3.0.0,>=2.9.0 in /usr/local/lib/python3.11/dist-packages (from ollama) (2.10.6)\n",
            "Requirement already satisfied: anyio in /usr/local/lib/python3.11/dist-packages (from httpx<0.29,>=0.27->ollama) (3.7.1)\n",
            "Requirement already satisfied: certifi in /usr/local/lib/python3.11/dist-packages (from httpx<0.29,>=0.27->ollama) (2025.1.31)\n",
            "Requirement already satisfied: httpcore==1.* in /usr/local/lib/python3.11/dist-packages (from httpx<0.29,>=0.27->ollama) (1.0.7)\n",
            "Requirement already satisfied: idna in /usr/local/lib/python3.11/dist-packages (from httpx<0.29,>=0.27->ollama) (3.10)\n",
            "Requirement already satisfied: h11<0.15,>=0.13 in /usr/local/lib/python3.11/dist-packages (from httpcore==1.*->httpx<0.29,>=0.27->ollama) (0.14.0)\n",
            "Requirement already satisfied: annotated-types>=0.6.0 in /usr/local/lib/python3.11/dist-packages (from pydantic<3.0.0,>=2.9.0->ollama) (0.7.0)\n",
            "Requirement already satisfied: pydantic-core==2.27.2 in /usr/local/lib/python3.11/dist-packages (from pydantic<3.0.0,>=2.9.0->ollama) (2.27.2)\n",
            "Requirement already satisfied: typing-extensions>=4.12.2 in /usr/local/lib/python3.11/dist-packages (from pydantic<3.0.0,>=2.9.0->ollama) (4.12.2)\n",
            "Requirement already satisfied: sniffio>=1.1 in /usr/local/lib/python3.11/dist-packages (from anyio->httpx<0.29,>=0.27->ollama) (1.3.1)\n",
            "Downloading ollama-0.4.7-py3-none-any.whl (13 kB)\n",
            "Installing collected packages: ollama\n",
            "Successfully installed ollama-0.4.7\n"
          ]
        }
      ]
    },
    {
      "cell_type": "code",
      "execution_count": 4,
      "id": "c1070317-3ed9-4659-abe3-828943230e03",
      "metadata": {
        "id": "c1070317-3ed9-4659-abe3-828943230e03"
      },
      "outputs": [],
      "source": [
        "# imports\n",
        "\n",
        "from dotenv import load_dotenv\n",
        "from IPython.display import Markdown, display, update_display\n",
        "from openai import OpenAI\n",
        "import ollama"
      ]
    },
    {
      "cell_type": "code",
      "execution_count": 5,
      "id": "4a456906-915a-4bfd-bb9d-57e505c5093f",
      "metadata": {
        "id": "4a456906-915a-4bfd-bb9d-57e505c5093f"
      },
      "outputs": [],
      "source": [
        "# constants\n",
        "\n",
        "MODEL_GPT = 'gpt-4o-mini'\n",
        "MODEL_LLAMA = 'llama3.2'"
      ]
    },
    {
      "cell_type": "code",
      "execution_count": 6,
      "id": "a8d7923c-5f28-4c30-8556-342d7c8497c1",
      "metadata": {
        "id": "a8d7923c-5f28-4c30-8556-342d7c8497c1",
        "outputId": "de6752c3-bfaa-4fcc-9fae-95e9fc92bdb3",
        "colab": {
          "base_uri": "https://localhost:8080/",
          "height": 315
        }
      },
      "outputs": [
        {
          "output_type": "error",
          "ename": "OpenAIError",
          "evalue": "The api_key client option must be set either by passing api_key to the client or by setting the OPENAI_API_KEY environment variable",
          "traceback": [
            "\u001b[0;31m---------------------------------------------------------------------------\u001b[0m",
            "\u001b[0;31mOpenAIError\u001b[0m                               Traceback (most recent call last)",
            "\u001b[0;32m<ipython-input-6-8ca4fe8b1c3c>\u001b[0m in \u001b[0;36m<cell line: 0>\u001b[0;34m()\u001b[0m\n\u001b[1;32m      1\u001b[0m \u001b[0;31m# set up environment\u001b[0m\u001b[0;34m\u001b[0m\u001b[0;34m\u001b[0m\u001b[0m\n\u001b[1;32m      2\u001b[0m \u001b[0mload_dotenv\u001b[0m\u001b[0;34m(\u001b[0m\u001b[0;34m)\u001b[0m\u001b[0;34m\u001b[0m\u001b[0;34m\u001b[0m\u001b[0m\n\u001b[0;32m----> 3\u001b[0;31m \u001b[0mopenai\u001b[0m\u001b[0;34m=\u001b[0m\u001b[0mOpenAI\u001b[0m\u001b[0;34m(\u001b[0m\u001b[0;34m)\u001b[0m\u001b[0;34m\u001b[0m\u001b[0;34m\u001b[0m\u001b[0m\n\u001b[0m",
            "\u001b[0;32m/usr/local/lib/python3.11/dist-packages/openai/_client.py\u001b[0m in \u001b[0;36m__init__\u001b[0;34m(self, api_key, organization, project, base_url, websocket_base_url, timeout, max_retries, default_headers, default_query, http_client, _strict_response_validation)\u001b[0m\n\u001b[1;32m    108\u001b[0m             \u001b[0mapi_key\u001b[0m \u001b[0;34m=\u001b[0m \u001b[0mos\u001b[0m\u001b[0;34m.\u001b[0m\u001b[0menviron\u001b[0m\u001b[0;34m.\u001b[0m\u001b[0mget\u001b[0m\u001b[0;34m(\u001b[0m\u001b[0;34m\"OPENAI_API_KEY\"\u001b[0m\u001b[0;34m)\u001b[0m\u001b[0;34m\u001b[0m\u001b[0;34m\u001b[0m\u001b[0m\n\u001b[1;32m    109\u001b[0m         \u001b[0;32mif\u001b[0m \u001b[0mapi_key\u001b[0m \u001b[0;32mis\u001b[0m \u001b[0;32mNone\u001b[0m\u001b[0;34m:\u001b[0m\u001b[0;34m\u001b[0m\u001b[0;34m\u001b[0m\u001b[0m\n\u001b[0;32m--> 110\u001b[0;31m             raise OpenAIError(\n\u001b[0m\u001b[1;32m    111\u001b[0m                 \u001b[0;34m\"The api_key client option must be set either by passing api_key to the client or by setting the OPENAI_API_KEY environment variable\"\u001b[0m\u001b[0;34m\u001b[0m\u001b[0;34m\u001b[0m\u001b[0m\n\u001b[1;32m    112\u001b[0m             )\n",
            "\u001b[0;31mOpenAIError\u001b[0m: The api_key client option must be set either by passing api_key to the client or by setting the OPENAI_API_KEY environment variable"
          ]
        }
      ],
      "source": [
        "# set up environment\n",
        "load_dotenv()\n",
        "openai=OpenAI()"
      ]
    },
    {
      "cell_type": "code",
      "execution_count": null,
      "id": "87a50b21-acb0-409e-ab1f-8228269017d2",
      "metadata": {
        "id": "87a50b21-acb0-409e-ab1f-8228269017d2",
        "outputId": "ff4dc4cc-cf83-49f9-9886-fcf0c7dd41db"
      },
      "outputs": [
        {
          "name": "stdin",
          "output_type": "stream",
          "text": [
            "Type enter your question:  Please explain what this code does and why: yield from {book.get(\"Title\") for book in books if book.get(\"title\")}\n"
          ]
        }
      ],
      "source": [
        "my_question = input(\"Type enter your question: \")"
      ]
    },
    {
      "cell_type": "code",
      "execution_count": null,
      "id": "3f0d0137-52b0-47a8-81a8-11a90a010798",
      "metadata": {
        "id": "3f0d0137-52b0-47a8-81a8-11a90a010798"
      },
      "outputs": [],
      "source": [
        "# here is the question; type over this to ask something new\n",
        "\n",
        "# question = \"\"\"\n",
        "# Please explain what this code does and why:\n",
        "# yield from {book.get(\"Title\") for book in books if book.get(\"title\")}\n",
        "# \"\"\""
      ]
    },
    {
      "cell_type": "code",
      "execution_count": null,
      "id": "aa90bd7d-b38d-48d0-b10b-f2b216525f95",
      "metadata": {
        "id": "aa90bd7d-b38d-48d0-b10b-f2b216525f95"
      },
      "outputs": [],
      "source": [
        "# prompts\n",
        "\n",
        "system_prompt = \"You are a helpful technical tutor who answers questions about python code, software engineering, data science and LLMs\"\n",
        "user_prompt = \"Please give a detailed explanation to the following question: \" + my_question"
      ]
    },
    {
      "cell_type": "code",
      "execution_count": null,
      "id": "a06ee193-4f0e-4954-9b0e-537f5418f6f7",
      "metadata": {
        "id": "a06ee193-4f0e-4954-9b0e-537f5418f6f7"
      },
      "outputs": [],
      "source": [
        "# messages\n",
        "\n",
        "messages = [\n",
        "    {\"role\": \"system\", \"content\": system_prompt},\n",
        "    {\"role\": \"user\", \"content\": user_prompt}\n",
        "]"
      ]
    },
    {
      "cell_type": "code",
      "execution_count": null,
      "id": "765a0855-c979-4524-ab23-2ae64ba9dd25",
      "metadata": {
        "id": "765a0855-c979-4524-ab23-2ae64ba9dd25",
        "outputId": "69199301-0972-4c6f-df58-55b157fad390"
      },
      "outputs": [
        {
          "data": {
            "text/plain": [
              "[{'role': 'system',\n",
              "  'content': 'You are a helpful technical tutor who answers questions about python code, software engineering, data science and LLMs'},\n",
              " {'role': 'user',\n",
              "  'content': 'Please give a detailed explanation to the following question: Please explain what this code does and why: yield from {book.get(\"Title\") for book in books if book.get(\"title\")}'}]"
            ]
          },
          "execution_count": 32,
          "metadata": {},
          "output_type": "execute_result"
        }
      ],
      "source": [
        "messages"
      ]
    },
    {
      "cell_type": "code",
      "execution_count": null,
      "id": "60ce7000-a4a5-4cce-a261-e75ef45063b4",
      "metadata": {
        "id": "60ce7000-a4a5-4cce-a261-e75ef45063b4",
        "outputId": "54858d72-bd39-4a97-dda4-5ece345bc778"
      },
      "outputs": [
        {
          "data": {
            "text/markdown": [
              "Certainly! Let's break down the code snippet you provided step-by-step to understand what it does and why.\n",
              "\n",
              "### Code Breakdown:\n",
              "\n",
              "1. **`{ ... for book in books if book.get(\"title\")}`**:\n",
              "   - This part of the code is a **set comprehension**. Set comprehensions are similar to list comprehensions but create a set object. A set is an unordered collection of unique elements in Python.\n",
              "   - **`for book in books`**: This iterates over a collection called `books`, which is likely a list of dictionaries. Each dictionary represents a book, containing various attributes like \"Title\", \"Author\", etc.\n",
              "   - **`if book.get(\"title\")`**: This condition checks whether the \"title\" key exists in the `book` dictionary and also checks that the corresponding value is truthy (not `None`, an empty string, etc.). If the \"title\" key is present and has a valid value, then the book is included in the set.\n",
              "   - **`book.get(\"Title\")`**: This retrieves the value associated with the key `\"Title\"` from the `book` dictionary. Note that this key's name is case-sensitive, and it might differ from the key used to check for its existence (`\"title\"`).\n",
              "\n",
              "   Overall, this part of the code builds a set of titles from the `books` list, including only those books that have a valid \"title\".\n",
              "\n",
              "2. **`yield from { ... }`**:\n",
              "   - The `yield from` expression is used within a generator function. It allows you to delegate part of the generator's operations to another generator (or any iterable in this case). It effectively yields each value from the provided iterable (the set comprehension in this case).\n",
              "   - This means that each unique book title resulting from the set comprehension will be yielded one at a time by the generator function containing this code.\n",
              "\n",
              "### What the Code Achieves:\n",
              "\n",
              "- The entire code snippet essentially creates a generator that yields unique book titles from a collection of books, where the title respects the provided conditional check (only yielding if the \"title\" key is present in the book dictionary).\n",
              "- If `books` looks something like this:\n",
              "\n",
              "  python\n",
              "  books = [\n",
              "      {\"title\": \" Book A\", \"Title\": \"The Great Gatsby\"},\n",
              "      {\"title\": \" Book B\", \"Title\": \"1984\"},\n",
              "      {\"title\": None, \"Title\": \"To Kill a Mockingbird\"},\n",
              "      {\"title\": \"\", \"Title\": \"Pride and Prejudice\"},\n",
              "      {\"title\": \" Book C\", \"Title\": \"Moby Dick\"}\n",
              "  ]\n",
              "  \n",
              "\n",
              "  The resulting unique titles set created by the comprehension would be:\n",
              "\n",
              "  python\n",
              "  {\"The Great Gatsby\", \"1984\", \"Moby Dick\"}\n",
              "  \n",
              "\n",
              "- Each of these titles would be yielded one at a time by the generator, allowing for efficient iteration over them, especially useful when dealing with large datasets.\n",
              "\n",
              "### Summary:\n",
              "\n",
              "In summary, this code efficiently extracts and yields unique book titles from a list of book dictionaries, ensuring that only titles from books with a valid \"title\" attribute are included. This is useful for processing collections of data where you want to avoid duplicates and enforce certain conditions on the data being processed."
            ],
            "text/plain": [
              "<IPython.core.display.Markdown object>"
            ]
          },
          "metadata": {},
          "output_type": "display_data"
        }
      ],
      "source": [
        "# Get gpt-4o-mini to answer, with streaming\n",
        "stream = openai.chat.completions.create(model=MODEL_GPT, messages=messages,stream=True)\n",
        "\n",
        "response = \"\"\n",
        "display_handle = display(Markdown(\"\"), display_id=True)\n",
        "for chunk in stream:\n",
        "    response += chunk.choices[0].delta.content or ''\n",
        "    response = response.replace(\"```\",\"\").replace(\"markdown\", \"\")\n",
        "    update_display(Markdown(response), display_id=display_handle.display_id)"
      ]
    },
    {
      "cell_type": "code",
      "execution_count": null,
      "id": "298e4e6c-afff-4ec5-b6b9-5a04bdcd2ce2",
      "metadata": {
        "id": "298e4e6c-afff-4ec5-b6b9-5a04bdcd2ce2"
      },
      "outputs": [],
      "source": []
    }
  ],
  "metadata": {
    "kernelspec": {
      "display_name": "Python 3 (ipykernel)",
      "language": "python",
      "name": "python3"
    },
    "language_info": {
      "codemirror_mode": {
        "name": "ipython",
        "version": 3
      },
      "file_extension": ".py",
      "mimetype": "text/x-python",
      "name": "python",
      "nbconvert_exporter": "python",
      "pygments_lexer": "ipython3",
      "version": "3.11.11"
    },
    "colab": {
      "provenance": [],
      "include_colab_link": true
    }
  },
  "nbformat": 4,
  "nbformat_minor": 5
}